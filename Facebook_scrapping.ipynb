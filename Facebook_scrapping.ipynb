{
 "cells": [
  {
   "cell_type": "code",
   "execution_count": 124,
   "id": "b8aab77d",
   "metadata": {},
   "outputs": [],
   "source": [
    "import pandas as pd\n",
    "import numpy as np\n",
    "from time import sleep"
   ]
  },
  {
   "cell_type": "code",
   "execution_count": 125,
   "id": "14260e03",
   "metadata": {},
   "outputs": [],
   "source": [
    "from selenium import webdriver\n",
    "from selenium.webdriver.common.by import By\n",
    "from selenium.webdriver.common.keys import Keys"
   ]
  },
  {
   "cell_type": "code",
   "execution_count": 154,
   "id": "8de3bc09",
   "metadata": {},
   "outputs": [],
   "source": [
    "def Takepages(compte,pwd,sujet):\n",
    "    driver.get('https://www.facebook.com/')\n",
    "    driver.find_element(By.ID,'email').send_keys(compte)\n",
    "    driver.find_element(By.ID,'pass').send_keys(pwd)\n",
    "    driver.find_element(By.NAME,'login').submit()\n",
    "    sleep(10)\n",
    "    search=driver.find_element(By.CLASS_NAME,'x1i10hfl.xggy1nq.x1s07b3s.x1kdt53j.x1yc453h.xhb22t3.xb5gni.xcj1dhv.x2s2ed0.xq33zhf.xjyslct.xjbqb8w.xnwf7zb.x40j3uw.x1s7lred.x15gyhx8.x972fbf.xcfux6l.x1qhh985.xm0m39n.x9f619.xzsf02u.xdl72j9.x1iyjqo2.xs83m0k.xjb2p0i.x6prxxf.xeuugli.x1a2a7pz.x1n2onr6.x15h3p50.xm7lytj.x1sxyh0.xdvlbce.xurb0ha.x1vqgdyp.x1xtgk1k.x17hph69.xo6swyp.x1ad04t7.x1glnyev.x1ix68h3.x19gujb8')\n",
    "    search.send_keys(sujet)\n",
    "    search.send_keys(Keys.RETURN)\n",
    "    sleep(20)\n",
    "    driver.execute_script(f\"window.scrollTo(0, {5});\")\n",
    "    pages=driver.find_elements(By.CSS_SELECTOR,'.x1i10hfl.xjbqb8w.x6umtig.x1b1mbwd.xaqea5y.xav7gou.x9f619.x1ypdohk.xt0psk2.xe8uvvx.xdj266r.x11i5rnm.xat24cr.x1mh8g0r.xexx8yu.x4uap5.x18d9i69.xkhd6sd.x16tdsg8.x1hl2dhg.xggy1nq.x1a2a7pz.xt0b8zv.xzsf02u.x1s688f')\n",
    "    urls=[]\n",
    "    for url in pages:\n",
    "        urls.append(url.get_attribute('href'))\n",
    "#     driver.quit()\n",
    "    return urls"
   ]
  },
  {
   "cell_type": "code",
   "execution_count": 155,
   "id": "acab1e4a",
   "metadata": {},
   "outputs": [],
   "source": [
    "def donnee(liste):\n",
    "    \n",
    "    description=[]\n",
    "    detaille=[]\n",
    "    \n",
    "    for url in liste:\n",
    "        try:\n",
    "            driver.get(url)\n",
    "            sleep(10)\n",
    "            vplus=driver.find_element(By.CSS_SELECTOR, '.x1i10hfl.xjbqb8w.x6umtig.x1b1mbwd.xaqea5y.xav7gou.x9f619.x1ypdohk.xt0psk2.xe8uvvx.xdj266r.x11i5rnm.xat24cr.x1mh8g0r.xexx8yu.x4uap5.x18d9i69.xkhd6sd.x16tdsg8.x1hl2dhg.xggy1nq.x1a2a7pz.xt0b8zv.xzsf02u.x1s688f')\n",
    "            vplus.click()\n",
    "            sleep(10)\n",
    "            descrp=driver.find_elements(By.CLASS_NAME,'xdj266r.x11i5rnm.xat24cr.x1mh8g0r.x1vvkbs.x126k92a')\n",
    "            det=driver.find_elements(By.CLASS_NAME,'x11i5rnm.xat24cr.x1mh8g0r.x1vvkbs.xtlvy1s.x126k92a')\n",
    "            \n",
    "            for i in range(len(description)):\n",
    "                description.append(descrp[i].text)\n",
    "                detaille.append(det[i].text)\n",
    "        except Exception as e:\n",
    "            print(e)\n",
    "            continue\n",
    "    return (description,detaille)"
   ]
  },
  {
   "cell_type": "code",
   "execution_count": 156,
   "id": "2b354c57",
   "metadata": {},
   "outputs": [],
   "source": [
    "driver= webdriver.Chrome()\n",
    "compte='camara.lamine.336'\n",
    "pwd='24111995'\n",
    "sujet='appartement en cote d\\'ivoire'\n",
    "pages=Takepages(compte,pwd,sujet)"
   ]
  },
  {
   "cell_type": "code",
   "execution_count": 157,
   "id": "cdc7ee7a",
   "metadata": {},
   "outputs": [
    {
     "name": "stdout",
     "output_type": "stream",
     "text": [
      "Message: element click intercepted: Element <a class=\"x1i10hfl xjbqb8w x6umtig x1b1mbwd xaqea5y xav7gou x9f619 x1ypdohk xt0psk2 xe8uvvx xdj266r x11i5rnm xat24cr x1mh8g0r xexx8yu x4uap5 x18d9i69 xkhd6sd x16tdsg8 x1hl2dhg xggy1nq x1a2a7pz xt0b8zv xzsf02u x1s688f\" href=\"https://web.facebook.com/aboubakar.doumbia.509\" role=\"link\" tabindex=\"0\">...</a> is not clickable at point (551, 10). Other element would receive the click: <a aria-label=\"Marketplace\" class=\"x1i10hfl xjbqb8w x6umtig x1b1mbwd xaqea5y xav7gou x9f619 x1ypdohk xe8uvvx xdj266r x11i5rnm xat24cr x1mh8g0r xexx8yu x4uap5 x18d9i69 xkhd6sd x16tdsg8 x1hl2dhg xggy1nq x1o1ewxj x3x9cwd x1e5q0jg x13rtm0m x87ps6o x1lku1pv x1a2a7pz x6s0dn4 x78zum5 xdt5ytf x5yr21d xl56j7k x1n2onr6 xh8yej3\" href=\"/marketplace/?ref=app_tab\" role=\"link\" tabindex=\"0\">...</a>\n",
      "  (Session info: chrome=117.0.5938.132)\n",
      "Stacktrace:\n",
      "\tGetHandleVerifier [0x00007FF766C17D12+55474]\n",
      "\t(No symbol) [0x00007FF766B877C2]\n",
      "\t(No symbol) [0x00007FF766A3E0EB]\n",
      "\t(No symbol) [0x00007FF766A84E7B]\n",
      "\t(No symbol) [0x00007FF766A83249]\n",
      "\t(No symbol) [0x00007FF766A81018]\n",
      "\t(No symbol) [0x00007FF766A800D3]\n",
      "\t(No symbol) [0x00007FF766A75DCF]\n",
      "\t(No symbol) [0x00007FF766A9F15A]\n",
      "\t(No symbol) [0x00007FF766A756E6]\n",
      "\t(No symbol) [0x00007FF766A9F370]\n",
      "\t(No symbol) [0x00007FF766AB7EF2]\n",
      "\t(No symbol) [0x00007FF766A9EF33]\n",
      "\t(No symbol) [0x00007FF766A73D41]\n",
      "\t(No symbol) [0x00007FF766A74F84]\n",
      "\tGetHandleVerifier [0x00007FF766F7B762+3609346]\n",
      "\tGetHandleVerifier [0x00007FF766FD1A80+3962400]\n",
      "\tGetHandleVerifier [0x00007FF766FC9F0F+3930799]\n",
      "\tGetHandleVerifier [0x00007FF766CB3CA6+694342]\n",
      "\t(No symbol) [0x00007FF766B92218]\n",
      "\t(No symbol) [0x00007FF766B8E484]\n",
      "\t(No symbol) [0x00007FF766B8E5B2]\n",
      "\t(No symbol) [0x00007FF766B7EE13]\n",
      "\tBaseThreadInitThunk [0x00007FFA750C7344+20]\n",
      "\tRtlUserThreadStart [0x00007FFA759E26B1+33]\n",
      "\n",
      "Message: element click intercepted: Element <a class=\"x1i10hfl xjbqb8w x6umtig x1b1mbwd xaqea5y xav7gou x9f619 x1ypdohk xt0psk2 xe8uvvx xdj266r x11i5rnm xat24cr x1mh8g0r xexx8yu x4uap5 x18d9i69 xkhd6sd x16tdsg8 x1hl2dhg xggy1nq x1a2a7pz xt0b8zv xzsf02u x1s688f\" href=\"/groups/473054598179953/user/100078665184378/?__cft__[0]=AZWdHOnhfWSFzn195e8mI8XV51cjhPZgDFY6moTa7QoVnNrYeHWPFAeJdkWbYgHLyijxhvdISLNRy_a6NLz4aYBAj38HPK5DCb62Vprx_IyfqmeQPeAUDNo-IXCSAutHwNVrE8pRr3vwOLfa9wmdEH1Q0EM9TqqaJaZzDcYH6oMzw8-vZ9fTBHMLG5tQi50nrZcF1_sOtBCfqtQJETYqadQe&amp;__tn__=-UC%2CP-R\" role=\"link\" tabindex=\"0\">...</a> is not clickable at point (476, 10). Other element would receive the click: <a aria-label=\"Marketplace\" class=\"x1i10hfl xjbqb8w x6umtig x1b1mbwd xaqea5y xav7gou x9f619 x1ypdohk xe8uvvx xdj266r x11i5rnm xat24cr x1mh8g0r xexx8yu x4uap5 x18d9i69 xkhd6sd x16tdsg8 x1hl2dhg xggy1nq x1o1ewxj x3x9cwd x1e5q0jg x13rtm0m x87ps6o x1lku1pv x1a2a7pz x6s0dn4 x78zum5 xdt5ytf x5yr21d xl56j7k x1n2onr6 xh8yej3\" href=\"/marketplace/?ref=app_tab\" role=\"link\" tabindex=\"0\">...</a>\n",
      "  (Session info: chrome=117.0.5938.132)\n",
      "Stacktrace:\n",
      "\tGetHandleVerifier [0x00007FF766C17D12+55474]\n",
      "\t(No symbol) [0x00007FF766B877C2]\n",
      "\t(No symbol) [0x00007FF766A3E0EB]\n",
      "\t(No symbol) [0x00007FF766A84E7B]\n",
      "\t(No symbol) [0x00007FF766A83249]\n",
      "\t(No symbol) [0x00007FF766A81018]\n",
      "\t(No symbol) [0x00007FF766A800D3]\n",
      "\t(No symbol) [0x00007FF766A75DCF]\n",
      "\t(No symbol) [0x00007FF766A9F15A]\n",
      "\t(No symbol) [0x00007FF766A756E6]\n",
      "\t(No symbol) [0x00007FF766A9F370]\n",
      "\t(No symbol) [0x00007FF766AB7EF2]\n",
      "\t(No symbol) [0x00007FF766A9EF33]\n",
      "\t(No symbol) [0x00007FF766A73D41]\n",
      "\t(No symbol) [0x00007FF766A74F84]\n",
      "\tGetHandleVerifier [0x00007FF766F7B762+3609346]\n",
      "\tGetHandleVerifier [0x00007FF766FD1A80+3962400]\n",
      "\tGetHandleVerifier [0x00007FF766FC9F0F+3930799]\n",
      "\tGetHandleVerifier [0x00007FF766CB3CA6+694342]\n",
      "\t(No symbol) [0x00007FF766B92218]\n",
      "\t(No symbol) [0x00007FF766B8E484]\n",
      "\t(No symbol) [0x00007FF766B8E5B2]\n",
      "\t(No symbol) [0x00007FF766B7EE13]\n",
      "\tBaseThreadInitThunk [0x00007FFA750C7344+20]\n",
      "\tRtlUserThreadStart [0x00007FFA759E26B1+33]\n",
      "\n",
      "Message: element click intercepted: Element <div class=\"x1i10hfl xjbqb8w x6umtig x1b1mbwd xaqea5y xav7gou x9f619 x1ypdohk xt0psk2 xe8uvvx xdj266r x11i5rnm xat24cr x1mh8g0r xexx8yu x4uap5 x18d9i69 xkhd6sd x16tdsg8 x1hl2dhg xggy1nq x1a2a7pz xt0b8zv xzsf02u x1s688f\" role=\"button\" tabindex=\"0\">...</div> is not clickable at point (136, 8). Other element would receive the click: <ul class=\"xuk3077 x78zum5 x1iyjqo2 xl56j7k x1p8ty84 x1na7pl x88anuq\">...</ul>\n",
      "  (Session info: chrome=117.0.5938.132)\n",
      "Stacktrace:\n",
      "\tGetHandleVerifier [0x00007FF766C17D12+55474]\n",
      "\t(No symbol) [0x00007FF766B877C2]\n",
      "\t(No symbol) [0x00007FF766A3E0EB]\n",
      "\t(No symbol) [0x00007FF766A84E7B]\n",
      "\t(No symbol) [0x00007FF766A83249]\n",
      "\t(No symbol) [0x00007FF766A81018]\n",
      "\t(No symbol) [0x00007FF766A800D3]\n",
      "\t(No symbol) [0x00007FF766A75DCF]\n",
      "\t(No symbol) [0x00007FF766A9F15A]\n",
      "\t(No symbol) [0x00007FF766A756E6]\n",
      "\t(No symbol) [0x00007FF766A9F370]\n",
      "\t(No symbol) [0x00007FF766AB7EF2]\n",
      "\t(No symbol) [0x00007FF766A9EF33]\n",
      "\t(No symbol) [0x00007FF766A73D41]\n",
      "\t(No symbol) [0x00007FF766A74F84]\n",
      "\tGetHandleVerifier [0x00007FF766F7B762+3609346]\n",
      "\tGetHandleVerifier [0x00007FF766FD1A80+3962400]\n",
      "\tGetHandleVerifier [0x00007FF766FC9F0F+3930799]\n",
      "\tGetHandleVerifier [0x00007FF766CB3CA6+694342]\n",
      "\t(No symbol) [0x00007FF766B92218]\n",
      "\t(No symbol) [0x00007FF766B8E484]\n",
      "\t(No symbol) [0x00007FF766B8E5B2]\n",
      "\t(No symbol) [0x00007FF766B7EE13]\n",
      "\tBaseThreadInitThunk [0x00007FFA750C7344+20]\n",
      "\tRtlUserThreadStart [0x00007FFA759E26B1+33]\n",
      "\n"
     ]
    }
   ],
   "source": [
    "(a,b)=donnee(pages)"
   ]
  },
  {
   "cell_type": "code",
   "execution_count": 158,
   "id": "a955d62e",
   "metadata": {},
   "outputs": [
    {
     "name": "stdout",
     "output_type": "stream",
     "text": [
      "0\n",
      "3\n"
     ]
    }
   ],
   "source": [
    "driver.get('https://web.facebook.com/groups/871411256563142/?hoisted_section_header_type=recently_seen&multi_permalinks=1996027990768124&locale=fr_FR')\n",
    "sleep(20)\n",
    "for i in range(5):\n",
    "    scroll_height = 1000\n",
    "    driver.execute_script(f\"window.scrollTo(0, {scroll_height});\")\n",
    "\n",
    "vplus=driver.find_elements(By.CSS_SELECTOR,'.x1i10hfl.xjbqb8w.x6umtig.x1b1mbwd.xaqea5y.xav7gou.x9f619.x1ypdohk.xt0psk2.xe8uvvx.xdj266r.x11i5rnm.xat24cr.x1mh8g0r.xexx8yu.x4uap5.x18d9i69.xkhd6sd.x16tdsg8.x1hl2dhg.xggy1nq.x1a2a7pz.xt0b8zv.xzsf02u.x1s688f')\n",
    "\n",
    "for i in range(len(vplus)):\n",
    "    try:\n",
    "        vplus[i].click()\n",
    "        sleep(2)\n",
    "    except:\n",
    "        print(i)\n",
    "        continue\n",
    "# vplus.send_keys(Keys.RETURN)\n",
    "sleep(10)"
   ]
  },
  {
   "cell_type": "code",
   "execution_count": 159,
   "id": "fd77f2b7",
   "metadata": {},
   "outputs": [
    {
     "data": {
      "text/plain": [
       "4"
      ]
     },
     "execution_count": 159,
     "metadata": {},
     "output_type": "execute_result"
    }
   ],
   "source": [
    "len(vplus)"
   ]
  },
  {
   "cell_type": "code",
   "execution_count": null,
   "id": "0d748fc0",
   "metadata": {},
   "outputs": [],
   "source": []
  }
 ],
 "metadata": {
  "kernelspec": {
   "display_name": "Python 3 (ipykernel)",
   "language": "python",
   "name": "python3"
  },
  "language_info": {
   "codemirror_mode": {
    "name": "ipython",
    "version": 3
   },
   "file_extension": ".py",
   "mimetype": "text/x-python",
   "name": "python",
   "nbconvert_exporter": "python",
   "pygments_lexer": "ipython3",
   "version": "3.9.12"
  }
 },
 "nbformat": 4,
 "nbformat_minor": 5
}
