{
 "cells": [
  {
   "cell_type": "code",
   "execution_count": 1,
   "id": "b8aab77d",
   "metadata": {},
   "outputs": [],
   "source": [
    "import pandas as pd\n",
    "import numpy as np\n",
    "from time import sleep"
   ]
  },
  {
   "cell_type": "code",
   "execution_count": 66,
   "id": "14260e03",
   "metadata": {},
   "outputs": [],
   "source": [
    "from selenium import webdriver\n",
    "from selenium.webdriver.common.by import By\n",
    "from selenium.webdriver.common.keys import Keys\n",
    "from bs4 import BeautifulSoup as bs\n",
    "import requests as req"
   ]
  },
  {
   "cell_type": "code",
   "execution_count": 73,
   "id": "8de3bc09",
   "metadata": {},
   "outputs": [],
   "source": [
    "def Takepages(compte,pwd,sujet):\n",
    "    \n",
    "    driver.get('https://www.facebook.com/')\n",
    "    driver.find_element(By.ID,'email').send_keys(compte)\n",
    "    driver.find_element(By.ID,'pass').send_keys(pwd)\n",
    "    driver.find_element(By.NAME,'login').submit()\n",
    "    sleep(10)\n",
    "    search=driver.find_element(By.CLASS_NAME,'x1i10hfl.xggy1nq.x1s07b3s.x1kdt53j.x1yc453h.xhb22t3.xb5gni.xcj1dhv.x2s2ed0.xq33zhf.xjyslct.xjbqb8w.xnwf7zb.x40j3uw.x1s7lred.x15gyhx8.x972fbf.xcfux6l.x1qhh985.xm0m39n.x9f619.xzsf02u.xdl72j9.x1iyjqo2.xs83m0k.xjb2p0i.x6prxxf.xeuugli.x1a2a7pz.x1n2onr6.x15h3p50.xm7lytj.x1sxyh0.xdvlbce.xurb0ha.x1vqgdyp.x1xtgk1k.x17hph69.xo6swyp.x1ad04t7.x1glnyev.x1ix68h3.x19gujb8')\n",
    "    search.send_keys(sujet)\n",
    "    search.send_keys(Keys.RETURN)\n",
    "    sleep(2)\n",
    "    pag=driver.find_element(By.CSS_SELECTOR,'.x1yztbdb.x1d52u69.xktsk01').click()\n",
    "    sleep(2)\n",
    "    for i in range(10):\n",
    "        driver.execute_script(f\"window.scrollTo(0, document.body.scrollHeight);\")\n",
    "        sleep(2)\n",
    "    pages=driver.find_elements(By.CSS_SELECTOR,'.x1i10hfl.xjbqb8w.x6umtig.x1b1mbwd.xaqea5y.xav7gou.x9f619.x1ypdohk.xt0psk2.xe8uvvx.xdj266r.x11i5rnm.xat24cr.x1mh8g0r.xexx8yu.x4uap5.x18d9i69.xkhd6sd.x16tdsg8.x1hl2dhg.xggy1nq.x1a2a7pz.xt0b8zv.xzsf02u.x1s688f')\n",
    "    urls=[]\n",
    "    for url in pages:\n",
    "        urls.append(url.get_attribute('href'))\n",
    "    return urls"
   ]
  },
  {
   "cell_type": "code",
   "execution_count": 4,
   "id": "acab1e4a",
   "metadata": {},
   "outputs": [],
   "source": [
    "def donnee(liste):\n",
    "    \n",
    "    description=[]\n",
    "    detaille=[]\n",
    "    imglink=[]\n",
    "    \n",
    "    for url in range(len(liste)):\n",
    "        try:\n",
    "            driver.get(url)\n",
    "            sleep(10)\n",
    "            for i in range(10):\n",
    "                driver.execute_script(f\"window.scrollTo(0, document.body.scrollHeight);\")\n",
    "                sleep(2)\n",
    "            det=driver.find_elements(By.CLASS_NAME,'xdj266r.x11i5rnm.xat24cr.x1mh8g0r.x1vvkbs.x126k92a')\n",
    "            sleep(5)\n",
    "    \n",
    "            for i in range(len(det)):\n",
    "                detaille.append(det[i].text)\n",
    "        except Exception as e:\n",
    "            continue\n",
    "    return (detaille)"
   ]
  },
  {
   "cell_type": "code",
   "execution_count": 74,
   "id": "2b354c57",
   "metadata": {},
   "outputs": [],
   "source": [
    "driver= webdriver.Chrome()\n",
    "compte='camara.lamine.336'\n",
    "pwd='24111995'\n",
    "sujet='location maison'\n",
    "pages=Takepages(compte,pwd,sujet)"
   ]
  },
  {
   "cell_type": "code",
   "execution_count": 23,
   "id": "cdc7ee7a",
   "metadata": {},
   "outputs": [
    {
     "name": "stdout",
     "output_type": "stream",
     "text": [
      "12\n",
      "7\n",
      "14\n"
     ]
    }
   ],
   "source": [
    "a=donnee(pages)"
   ]
  },
  {
   "cell_type": "code",
   "execution_count": 88,
   "id": "fc1e37ea",
   "metadata": {},
   "outputs": [
    {
     "data": {
      "text/plain": [
       "'https://web.facebook.com/ServicesLocation'"
      ]
     },
     "execution_count": 88,
     "metadata": {},
     "output_type": "execute_result"
    }
   ],
   "source": [
    "pages[3]"
   ]
  },
  {
   "cell_type": "code",
   "execution_count": 101,
   "id": "a955d62e",
   "metadata": {},
   "outputs": [
    {
     "name": "stdout",
     "output_type": "stream",
     "text": [
      "1\n"
     ]
    }
   ],
   "source": [
    "detaille=[]\n",
    "driver.get('https://web.facebook.com/ServicesLocation')\n",
    "sleep(10)\n",
    "\n",
    "for i in range(3):\n",
    "    driver.execute_script(f\"window.scrollTo(0, document.body.scrollHeight);\")\n",
    "sleep(10)\n",
    "det=driver.find_elements(By.CLASS_NAME,'xdj266r.x11i5rnm.xat24cr.x1mh8g0r.x1vvkbs.x126k92a')\n",
    "sleep(10)\n",
    "# vplus=driver.find_elements(By.CSS_SELECTOR, '.x1i10hfl.xjbqb8w.x6umtig.x1b1mbwd.xaqea5y.xav7gou.x9f619.x1ypdohk.xt0psk2.xe8uvvx.xdj266r.x11i5rnm.xat24cr.x1mh8g0r.xexx8yu.x4uap5.x18d9i69.xkhd6sd.x16tdsg8.x1hl2dhg.xggy1nq.x1a2a7pz.xt0b8zv.xzsf02u.x1s688f')\n",
    "# for i in range(len(vplus)):\n",
    "#     try:\n",
    "#         vplus[i].click()\n",
    "#         sleep(1)\n",
    "#     except:\n",
    "#         continue     \n",
    "\n",
    "for i in range(len(det)):\n",
    "    detaille.append(det[i].text)\n",
    "    \n",
    "print(len(det))"
   ]
  },
  {
   "cell_type": "code",
   "execution_count": null,
   "id": "7e8f5850",
   "metadata": {},
   "outputs": [],
   "source": []
  }
 ],
 "metadata": {
  "kernelspec": {
   "display_name": "Python 3 (ipykernel)",
   "language": "python",
   "name": "python3"
  },
  "language_info": {
   "codemirror_mode": {
    "name": "ipython",
    "version": 3
   },
   "file_extension": ".py",
   "mimetype": "text/x-python",
   "name": "python",
   "nbconvert_exporter": "python",
   "pygments_lexer": "ipython3",
   "version": "3.9.12"
  }
 },
 "nbformat": 4,
 "nbformat_minor": 5
}
